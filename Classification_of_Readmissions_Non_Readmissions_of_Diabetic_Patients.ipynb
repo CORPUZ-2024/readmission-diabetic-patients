{
  "nbformat": 4,
  "nbformat_minor": 0,
  "metadata": {
    "colab": {
      "name": "Classification of Readmissions/Non-Readmissions of Diabetic Patients.ipynb",
      "provenance": [],
      "collapsed_sections": [],
      "mount_file_id": "1975yyZzoem59P98G3v8lBGVGCLw0LatT",
      "authorship_tag": "ABX9TyP/a7B29egP3TvLQXdhUO2T",
      "include_colab_link": true
    },
    "kernelspec": {
      "name": "python3",
      "display_name": "Python 3"
    },
    "language_info": {
      "name": "python"
    }
  },
  "cells": [
    {
      "cell_type": "markdown",
      "metadata": {
        "id": "view-in-github",
        "colab_type": "text"
      },
      "source": [
        "<a href=\"https://colab.research.google.com/github/corpuzn12/readmit-diabetic1/blob/main/Classification_of_Readmissions_Non_Readmissions_of_Diabetic_Patients.ipynb\" target=\"_parent\"><img src=\"https://colab.research.google.com/assets/colab-badge.svg\" alt=\"Open In Colab\"/></a>"
      ]
    },
    {
      "cell_type": "markdown",
      "metadata": {
        "id": "bCZudd1uuRC8"
      },
      "source": [
        "# **Classification of Readmissions/Non-Readmissions of Diabetic Patients**\n"
      ]
    },
    {
      "cell_type": "code",
      "metadata": {
        "id": "nZsR-Puz9CEn"
      },
      "source": [
        "import pandas as pd\n",
        "import numpy as np\n",
        "import matplotlib.pyplot as plt\n",
        "import tkinter as tk\n",
        "from tkinter import filedialog\n",
        "from pandas import DataFrame"
      ],
      "execution_count": null,
      "outputs": []
    },
    {
      "cell_type": "code",
      "metadata": {
        "id": "eUjR3kIx-qCW"
      },
      "source": [
        "from sklearn.model_selection import cross_validate\n",
        "from sklearn.model_selection import train_test_split\n",
        "from sklearn.metrics import mean_squared_error\n",
        "from sklearn.metrics import accuracy_score"
      ],
      "execution_count": null,
      "outputs": []
    },
    {
      "cell_type": "code",
      "metadata": {
        "id": "D51Y7o9b-vfu",
        "colab": {
          "base_uri": "https://localhost:8080/"
        },
        "outputId": "6915e4dc-2ad1-413b-9a8c-41a05fe475cf"
      },
      "source": [
        "from sklearn import tree\n",
        "from sklearn.ensemble import BaggingClassifier\n",
        "from sklearn.ensemble import RandomForestClassifier\n",
        "from sklearn.ensemble import GradientBoostingClassifier\n",
        "from sklearn.tree import DecisionTreeClassifier\n",
        "import imblearn \n",
        "from imblearn.over_sampling import SMOTE"
      ],
      "execution_count": null,
      "outputs": [
        {
          "output_type": "stream",
          "text": [
            "/usr/local/lib/python3.7/dist-packages/sklearn/externals/six.py:31: FutureWarning: The module is deprecated in version 0.21 and will be removed in version 0.23 since we've dropped support for Python 2.7. Please rely on the official version of six (https://pypi.org/project/six/).\n",
            "  \"(https://pypi.org/project/six/).\", FutureWarning)\n",
            "/usr/local/lib/python3.7/dist-packages/sklearn/utils/deprecation.py:144: FutureWarning: The sklearn.neighbors.base module is  deprecated in version 0.22 and will be removed in version 0.24. The corresponding classes / functions should instead be imported from sklearn.neighbors. Anything that cannot be imported from sklearn.neighbors is now part of the private API.\n",
            "  warnings.warn(message, FutureWarning)\n"
          ],
          "name": "stderr"
        }
      ]
    },
    {
      "cell_type": "code",
      "metadata": {
        "id": "FlSPekQLW-tp"
      },
      "source": [
        "from sklearn.metrics import r2_score\n",
        "from tqdm import tqdm\n",
        "from sklearn.metrics import f1_score\n",
        "from sklearn.metrics import classification_report\n",
        "from sklearn.model_selection import GridSearchCV\n",
        "from sklearn.preprocessing import StandardScaler"
      ],
      "execution_count": null,
      "outputs": []
    },
    {
      "cell_type": "markdown",
      "metadata": {
        "id": "saobsi0DxDoV"
      },
      "source": [
        "# **Introduction to the Dataset**\n"
      ]
    },
    {
      "cell_type": "markdown",
      "metadata": {
        "id": "ZhVpI9Q6UdYd"
      },
      "source": [
        "This diabetes dataset includes 10 years (1999–2008) of clinical care at 130 hospitals and integrated delivery networks throughout the United States: Midwest (18 hospitals), Northeast (58), South (28), and West (16). \n",
        "\n",
        "The database consists of 41 tables and 117 features. The database includes 74,036,643 unique encounters (visits) that correspond to 17,880,231 unique patients and 2,889,571 providers. The dataset includes inpatient and outpatient data, including emergency department, for the same group of patients. However, data from out-of-network providers is not captured.\n",
        "\n",
        "Information was extracted from the database for encounters that satisfied the following criteria: \n",
        "\n",
        "\n",
        "\n",
        "1.   It is an inpatient encounter (a hospital admission).\n",
        "2.   It is a “diabetic” encounter, that is, one during which any kind of diabetes was entered to the system as a diagnosis.\n",
        "3. The length of stay was at least 1 day and at most 14 days.\n",
        "4. Laboratory tests were performed during the encounter.\n",
        "5. Medications were administered during the encounter.\n",
        "\n",
        "These criteria  were applied to remove admissions for procedures and so forth, which were of less than 23 hours of duration and in which changes in diabetes management were less likely to have occurred.\n",
        "\n",
        "This results in a dataset with 101,766 encounters that satisfy the above criteria. \n",
        "\n"
      ]
    },
    {
      "cell_type": "markdown",
      "metadata": {
        "id": "u3r3dZZQ4_eR"
      },
      "source": [
        "# **Classification of Readmission/Non Readmission of Diabetic Patients**\n",
        "\n",
        "We will be using supervised learning algorithms to answer a classification question regarding readmissions and non readmission cases among diabetic patients. In choosing the most optimal model for this dataset, we will use  Bagging, Random Forest and Boosting models. \n",
        "\n",
        "**Preliminary Assumptions**\n",
        "\n",
        "Our goal is to use Bagging, Random Forest and Boosting in classifying diabetic patient encounters that either lead to readmission or a non-readmission. This dataset differentiates readmissions that are < 30 days from the initial hospital encounter from readmissions that are > 30 days from initial hospital readmission. We will consolidate these target responses as a binary output of either a readmission event or a non-readmission event regardless of the 30 day timeframe of the original dataset inorder to simplify our analysis."
      ]
    },
    {
      "cell_type": "code",
      "metadata": {
        "colab": {
          "base_uri": "https://localhost:8080/",
          "height": 608
        },
        "id": "KJjYP-ce_W_m",
        "outputId": "dfdf7a57-cfc7-4ae5-f710-54e08c23473d"
      },
      "source": [
        "diabetes_file = \"/content/drive/MyDrive/Colab Notebooks/599 Machine Learning /599 Data Sets /diabetic_data.csv\"\n",
        "diabetes = pd.read_csv(diabetes_file)\n",
        "diabetes"
      ],
      "execution_count": null,
      "outputs": [
        {
          "output_type": "execute_result",
          "data": {
            "text/html": [
              "<div>\n",
              "<style scoped>\n",
              "    .dataframe tbody tr th:only-of-type {\n",
              "        vertical-align: middle;\n",
              "    }\n",
              "\n",
              "    .dataframe tbody tr th {\n",
              "        vertical-align: top;\n",
              "    }\n",
              "\n",
              "    .dataframe thead th {\n",
              "        text-align: right;\n",
              "    }\n",
              "</style>\n",
              "<table border=\"1\" class=\"dataframe\">\n",
              "  <thead>\n",
              "    <tr style=\"text-align: right;\">\n",
              "      <th></th>\n",
              "      <th>encounter_id</th>\n",
              "      <th>patient_nbr</th>\n",
              "      <th>race</th>\n",
              "      <th>gender</th>\n",
              "      <th>age</th>\n",
              "      <th>weight</th>\n",
              "      <th>admission_type_id</th>\n",
              "      <th>discharge_disposition_id</th>\n",
              "      <th>admission_source_id</th>\n",
              "      <th>time_in_hospital</th>\n",
              "      <th>payer_code</th>\n",
              "      <th>medical_specialty</th>\n",
              "      <th>num_lab_procedures</th>\n",
              "      <th>num_procedures</th>\n",
              "      <th>num_medications</th>\n",
              "      <th>number_outpatient</th>\n",
              "      <th>number_emergency</th>\n",
              "      <th>number_inpatient</th>\n",
              "      <th>diag_1</th>\n",
              "      <th>diag_2</th>\n",
              "      <th>diag_3</th>\n",
              "      <th>number_diagnoses</th>\n",
              "      <th>max_glu_serum</th>\n",
              "      <th>A1Cresult</th>\n",
              "      <th>metformin</th>\n",
              "      <th>repaglinide</th>\n",
              "      <th>nateglinide</th>\n",
              "      <th>chlorpropamide</th>\n",
              "      <th>glimepiride</th>\n",
              "      <th>acetohexamide</th>\n",
              "      <th>glipizide</th>\n",
              "      <th>glyburide</th>\n",
              "      <th>tolbutamide</th>\n",
              "      <th>pioglitazone</th>\n",
              "      <th>rosiglitazone</th>\n",
              "      <th>acarbose</th>\n",
              "      <th>miglitol</th>\n",
              "      <th>troglitazone</th>\n",
              "      <th>tolazamide</th>\n",
              "      <th>examide</th>\n",
              "      <th>citoglipton</th>\n",
              "      <th>insulin</th>\n",
              "      <th>glyburide-metformin</th>\n",
              "      <th>glipizide-metformin</th>\n",
              "      <th>glimepiride-pioglitazone</th>\n",
              "      <th>metformin-rosiglitazone</th>\n",
              "      <th>metformin-pioglitazone</th>\n",
              "      <th>change</th>\n",
              "      <th>diabetesMed</th>\n",
              "      <th>readmitted</th>\n",
              "    </tr>\n",
              "  </thead>\n",
              "  <tbody>\n",
              "    <tr>\n",
              "      <th>0</th>\n",
              "      <td>2278392</td>\n",
              "      <td>8222157</td>\n",
              "      <td>Caucasian</td>\n",
              "      <td>Female</td>\n",
              "      <td>[0-10)</td>\n",
              "      <td>?</td>\n",
              "      <td>6</td>\n",
              "      <td>25</td>\n",
              "      <td>1</td>\n",
              "      <td>1</td>\n",
              "      <td>?</td>\n",
              "      <td>Pediatrics-Endocrinology</td>\n",
              "      <td>41</td>\n",
              "      <td>0</td>\n",
              "      <td>1</td>\n",
              "      <td>0</td>\n",
              "      <td>0</td>\n",
              "      <td>0</td>\n",
              "      <td>250.83</td>\n",
              "      <td>?</td>\n",
              "      <td>?</td>\n",
              "      <td>1</td>\n",
              "      <td>None</td>\n",
              "      <td>None</td>\n",
              "      <td>No</td>\n",
              "      <td>No</td>\n",
              "      <td>No</td>\n",
              "      <td>No</td>\n",
              "      <td>No</td>\n",
              "      <td>No</td>\n",
              "      <td>No</td>\n",
              "      <td>No</td>\n",
              "      <td>No</td>\n",
              "      <td>No</td>\n",
              "      <td>No</td>\n",
              "      <td>No</td>\n",
              "      <td>No</td>\n",
              "      <td>No</td>\n",
              "      <td>No</td>\n",
              "      <td>No</td>\n",
              "      <td>No</td>\n",
              "      <td>No</td>\n",
              "      <td>No</td>\n",
              "      <td>No</td>\n",
              "      <td>No</td>\n",
              "      <td>No</td>\n",
              "      <td>No</td>\n",
              "      <td>No</td>\n",
              "      <td>No</td>\n",
              "      <td>NO</td>\n",
              "    </tr>\n",
              "    <tr>\n",
              "      <th>1</th>\n",
              "      <td>149190</td>\n",
              "      <td>55629189</td>\n",
              "      <td>Caucasian</td>\n",
              "      <td>Female</td>\n",
              "      <td>[10-20)</td>\n",
              "      <td>?</td>\n",
              "      <td>1</td>\n",
              "      <td>1</td>\n",
              "      <td>7</td>\n",
              "      <td>3</td>\n",
              "      <td>?</td>\n",
              "      <td>?</td>\n",
              "      <td>59</td>\n",
              "      <td>0</td>\n",
              "      <td>18</td>\n",
              "      <td>0</td>\n",
              "      <td>0</td>\n",
              "      <td>0</td>\n",
              "      <td>276</td>\n",
              "      <td>250.01</td>\n",
              "      <td>255</td>\n",
              "      <td>9</td>\n",
              "      <td>None</td>\n",
              "      <td>None</td>\n",
              "      <td>No</td>\n",
              "      <td>No</td>\n",
              "      <td>No</td>\n",
              "      <td>No</td>\n",
              "      <td>No</td>\n",
              "      <td>No</td>\n",
              "      <td>No</td>\n",
              "      <td>No</td>\n",
              "      <td>No</td>\n",
              "      <td>No</td>\n",
              "      <td>No</td>\n",
              "      <td>No</td>\n",
              "      <td>No</td>\n",
              "      <td>No</td>\n",
              "      <td>No</td>\n",
              "      <td>No</td>\n",
              "      <td>No</td>\n",
              "      <td>Up</td>\n",
              "      <td>No</td>\n",
              "      <td>No</td>\n",
              "      <td>No</td>\n",
              "      <td>No</td>\n",
              "      <td>No</td>\n",
              "      <td>Ch</td>\n",
              "      <td>Yes</td>\n",
              "      <td>&gt;30</td>\n",
              "    </tr>\n",
              "    <tr>\n",
              "      <th>2</th>\n",
              "      <td>64410</td>\n",
              "      <td>86047875</td>\n",
              "      <td>AfricanAmerican</td>\n",
              "      <td>Female</td>\n",
              "      <td>[20-30)</td>\n",
              "      <td>?</td>\n",
              "      <td>1</td>\n",
              "      <td>1</td>\n",
              "      <td>7</td>\n",
              "      <td>2</td>\n",
              "      <td>?</td>\n",
              "      <td>?</td>\n",
              "      <td>11</td>\n",
              "      <td>5</td>\n",
              "      <td>13</td>\n",
              "      <td>2</td>\n",
              "      <td>0</td>\n",
              "      <td>1</td>\n",
              "      <td>648</td>\n",
              "      <td>250</td>\n",
              "      <td>V27</td>\n",
              "      <td>6</td>\n",
              "      <td>None</td>\n",
              "      <td>None</td>\n",
              "      <td>No</td>\n",
              "      <td>No</td>\n",
              "      <td>No</td>\n",
              "      <td>No</td>\n",
              "      <td>No</td>\n",
              "      <td>No</td>\n",
              "      <td>Steady</td>\n",
              "      <td>No</td>\n",
              "      <td>No</td>\n",
              "      <td>No</td>\n",
              "      <td>No</td>\n",
              "      <td>No</td>\n",
              "      <td>No</td>\n",
              "      <td>No</td>\n",
              "      <td>No</td>\n",
              "      <td>No</td>\n",
              "      <td>No</td>\n",
              "      <td>No</td>\n",
              "      <td>No</td>\n",
              "      <td>No</td>\n",
              "      <td>No</td>\n",
              "      <td>No</td>\n",
              "      <td>No</td>\n",
              "      <td>No</td>\n",
              "      <td>Yes</td>\n",
              "      <td>NO</td>\n",
              "    </tr>\n",
              "    <tr>\n",
              "      <th>3</th>\n",
              "      <td>500364</td>\n",
              "      <td>82442376</td>\n",
              "      <td>Caucasian</td>\n",
              "      <td>Male</td>\n",
              "      <td>[30-40)</td>\n",
              "      <td>?</td>\n",
              "      <td>1</td>\n",
              "      <td>1</td>\n",
              "      <td>7</td>\n",
              "      <td>2</td>\n",
              "      <td>?</td>\n",
              "      <td>?</td>\n",
              "      <td>44</td>\n",
              "      <td>1</td>\n",
              "      <td>16</td>\n",
              "      <td>0</td>\n",
              "      <td>0</td>\n",
              "      <td>0</td>\n",
              "      <td>8</td>\n",
              "      <td>250.43</td>\n",
              "      <td>403</td>\n",
              "      <td>7</td>\n",
              "      <td>None</td>\n",
              "      <td>None</td>\n",
              "      <td>No</td>\n",
              "      <td>No</td>\n",
              "      <td>No</td>\n",
              "      <td>No</td>\n",
              "      <td>No</td>\n",
              "      <td>No</td>\n",
              "      <td>No</td>\n",
              "      <td>No</td>\n",
              "      <td>No</td>\n",
              "      <td>No</td>\n",
              "      <td>No</td>\n",
              "      <td>No</td>\n",
              "      <td>No</td>\n",
              "      <td>No</td>\n",
              "      <td>No</td>\n",
              "      <td>No</td>\n",
              "      <td>No</td>\n",
              "      <td>Up</td>\n",
              "      <td>No</td>\n",
              "      <td>No</td>\n",
              "      <td>No</td>\n",
              "      <td>No</td>\n",
              "      <td>No</td>\n",
              "      <td>Ch</td>\n",
              "      <td>Yes</td>\n",
              "      <td>NO</td>\n",
              "    </tr>\n",
              "    <tr>\n",
              "      <th>4</th>\n",
              "      <td>16680</td>\n",
              "      <td>42519267</td>\n",
              "      <td>Caucasian</td>\n",
              "      <td>Male</td>\n",
              "      <td>[40-50)</td>\n",
              "      <td>?</td>\n",
              "      <td>1</td>\n",
              "      <td>1</td>\n",
              "      <td>7</td>\n",
              "      <td>1</td>\n",
              "      <td>?</td>\n",
              "      <td>?</td>\n",
              "      <td>51</td>\n",
              "      <td>0</td>\n",
              "      <td>8</td>\n",
              "      <td>0</td>\n",
              "      <td>0</td>\n",
              "      <td>0</td>\n",
              "      <td>197</td>\n",
              "      <td>157</td>\n",
              "      <td>250</td>\n",
              "      <td>5</td>\n",
              "      <td>None</td>\n",
              "      <td>None</td>\n",
              "      <td>No</td>\n",
              "      <td>No</td>\n",
              "      <td>No</td>\n",
              "      <td>No</td>\n",
              "      <td>No</td>\n",
              "      <td>No</td>\n",
              "      <td>Steady</td>\n",
              "      <td>No</td>\n",
              "      <td>No</td>\n",
              "      <td>No</td>\n",
              "      <td>No</td>\n",
              "      <td>No</td>\n",
              "      <td>No</td>\n",
              "      <td>No</td>\n",
              "      <td>No</td>\n",
              "      <td>No</td>\n",
              "      <td>No</td>\n",
              "      <td>Steady</td>\n",
              "      <td>No</td>\n",
              "      <td>No</td>\n",
              "      <td>No</td>\n",
              "      <td>No</td>\n",
              "      <td>No</td>\n",
              "      <td>Ch</td>\n",
              "      <td>Yes</td>\n",
              "      <td>NO</td>\n",
              "    </tr>\n",
              "    <tr>\n",
              "      <th>...</th>\n",
              "      <td>...</td>\n",
              "      <td>...</td>\n",
              "      <td>...</td>\n",
              "      <td>...</td>\n",
              "      <td>...</td>\n",
              "      <td>...</td>\n",
              "      <td>...</td>\n",
              "      <td>...</td>\n",
              "      <td>...</td>\n",
              "      <td>...</td>\n",
              "      <td>...</td>\n",
              "      <td>...</td>\n",
              "      <td>...</td>\n",
              "      <td>...</td>\n",
              "      <td>...</td>\n",
              "      <td>...</td>\n",
              "      <td>...</td>\n",
              "      <td>...</td>\n",
              "      <td>...</td>\n",
              "      <td>...</td>\n",
              "      <td>...</td>\n",
              "      <td>...</td>\n",
              "      <td>...</td>\n",
              "      <td>...</td>\n",
              "      <td>...</td>\n",
              "      <td>...</td>\n",
              "      <td>...</td>\n",
              "      <td>...</td>\n",
              "      <td>...</td>\n",
              "      <td>...</td>\n",
              "      <td>...</td>\n",
              "      <td>...</td>\n",
              "      <td>...</td>\n",
              "      <td>...</td>\n",
              "      <td>...</td>\n",
              "      <td>...</td>\n",
              "      <td>...</td>\n",
              "      <td>...</td>\n",
              "      <td>...</td>\n",
              "      <td>...</td>\n",
              "      <td>...</td>\n",
              "      <td>...</td>\n",
              "      <td>...</td>\n",
              "      <td>...</td>\n",
              "      <td>...</td>\n",
              "      <td>...</td>\n",
              "      <td>...</td>\n",
              "      <td>...</td>\n",
              "      <td>...</td>\n",
              "      <td>...</td>\n",
              "    </tr>\n",
              "    <tr>\n",
              "      <th>101761</th>\n",
              "      <td>443847548</td>\n",
              "      <td>100162476</td>\n",
              "      <td>AfricanAmerican</td>\n",
              "      <td>Male</td>\n",
              "      <td>[70-80)</td>\n",
              "      <td>?</td>\n",
              "      <td>1</td>\n",
              "      <td>3</td>\n",
              "      <td>7</td>\n",
              "      <td>3</td>\n",
              "      <td>MC</td>\n",
              "      <td>?</td>\n",
              "      <td>51</td>\n",
              "      <td>0</td>\n",
              "      <td>16</td>\n",
              "      <td>0</td>\n",
              "      <td>0</td>\n",
              "      <td>0</td>\n",
              "      <td>250.13</td>\n",
              "      <td>291</td>\n",
              "      <td>458</td>\n",
              "      <td>9</td>\n",
              "      <td>None</td>\n",
              "      <td>&gt;8</td>\n",
              "      <td>Steady</td>\n",
              "      <td>No</td>\n",
              "      <td>No</td>\n",
              "      <td>No</td>\n",
              "      <td>No</td>\n",
              "      <td>No</td>\n",
              "      <td>No</td>\n",
              "      <td>No</td>\n",
              "      <td>No</td>\n",
              "      <td>No</td>\n",
              "      <td>No</td>\n",
              "      <td>No</td>\n",
              "      <td>No</td>\n",
              "      <td>No</td>\n",
              "      <td>No</td>\n",
              "      <td>No</td>\n",
              "      <td>No</td>\n",
              "      <td>Down</td>\n",
              "      <td>No</td>\n",
              "      <td>No</td>\n",
              "      <td>No</td>\n",
              "      <td>No</td>\n",
              "      <td>No</td>\n",
              "      <td>Ch</td>\n",
              "      <td>Yes</td>\n",
              "      <td>&gt;30</td>\n",
              "    </tr>\n",
              "    <tr>\n",
              "      <th>101762</th>\n",
              "      <td>443847782</td>\n",
              "      <td>74694222</td>\n",
              "      <td>AfricanAmerican</td>\n",
              "      <td>Female</td>\n",
              "      <td>[80-90)</td>\n",
              "      <td>?</td>\n",
              "      <td>1</td>\n",
              "      <td>4</td>\n",
              "      <td>5</td>\n",
              "      <td>5</td>\n",
              "      <td>MC</td>\n",
              "      <td>?</td>\n",
              "      <td>33</td>\n",
              "      <td>3</td>\n",
              "      <td>18</td>\n",
              "      <td>0</td>\n",
              "      <td>0</td>\n",
              "      <td>1</td>\n",
              "      <td>560</td>\n",
              "      <td>276</td>\n",
              "      <td>787</td>\n",
              "      <td>9</td>\n",
              "      <td>None</td>\n",
              "      <td>None</td>\n",
              "      <td>No</td>\n",
              "      <td>No</td>\n",
              "      <td>No</td>\n",
              "      <td>No</td>\n",
              "      <td>No</td>\n",
              "      <td>No</td>\n",
              "      <td>No</td>\n",
              "      <td>No</td>\n",
              "      <td>No</td>\n",
              "      <td>No</td>\n",
              "      <td>No</td>\n",
              "      <td>No</td>\n",
              "      <td>No</td>\n",
              "      <td>No</td>\n",
              "      <td>No</td>\n",
              "      <td>No</td>\n",
              "      <td>No</td>\n",
              "      <td>Steady</td>\n",
              "      <td>No</td>\n",
              "      <td>No</td>\n",
              "      <td>No</td>\n",
              "      <td>No</td>\n",
              "      <td>No</td>\n",
              "      <td>No</td>\n",
              "      <td>Yes</td>\n",
              "      <td>NO</td>\n",
              "    </tr>\n",
              "    <tr>\n",
              "      <th>101763</th>\n",
              "      <td>443854148</td>\n",
              "      <td>41088789</td>\n",
              "      <td>Caucasian</td>\n",
              "      <td>Male</td>\n",
              "      <td>[70-80)</td>\n",
              "      <td>?</td>\n",
              "      <td>1</td>\n",
              "      <td>1</td>\n",
              "      <td>7</td>\n",
              "      <td>1</td>\n",
              "      <td>MC</td>\n",
              "      <td>?</td>\n",
              "      <td>53</td>\n",
              "      <td>0</td>\n",
              "      <td>9</td>\n",
              "      <td>1</td>\n",
              "      <td>0</td>\n",
              "      <td>0</td>\n",
              "      <td>38</td>\n",
              "      <td>590</td>\n",
              "      <td>296</td>\n",
              "      <td>13</td>\n",
              "      <td>None</td>\n",
              "      <td>None</td>\n",
              "      <td>Steady</td>\n",
              "      <td>No</td>\n",
              "      <td>No</td>\n",
              "      <td>No</td>\n",
              "      <td>No</td>\n",
              "      <td>No</td>\n",
              "      <td>No</td>\n",
              "      <td>No</td>\n",
              "      <td>No</td>\n",
              "      <td>No</td>\n",
              "      <td>No</td>\n",
              "      <td>No</td>\n",
              "      <td>No</td>\n",
              "      <td>No</td>\n",
              "      <td>No</td>\n",
              "      <td>No</td>\n",
              "      <td>No</td>\n",
              "      <td>Down</td>\n",
              "      <td>No</td>\n",
              "      <td>No</td>\n",
              "      <td>No</td>\n",
              "      <td>No</td>\n",
              "      <td>No</td>\n",
              "      <td>Ch</td>\n",
              "      <td>Yes</td>\n",
              "      <td>NO</td>\n",
              "    </tr>\n",
              "    <tr>\n",
              "      <th>101764</th>\n",
              "      <td>443857166</td>\n",
              "      <td>31693671</td>\n",
              "      <td>Caucasian</td>\n",
              "      <td>Female</td>\n",
              "      <td>[80-90)</td>\n",
              "      <td>?</td>\n",
              "      <td>2</td>\n",
              "      <td>3</td>\n",
              "      <td>7</td>\n",
              "      <td>10</td>\n",
              "      <td>MC</td>\n",
              "      <td>Surgery-General</td>\n",
              "      <td>45</td>\n",
              "      <td>2</td>\n",
              "      <td>21</td>\n",
              "      <td>0</td>\n",
              "      <td>0</td>\n",
              "      <td>1</td>\n",
              "      <td>996</td>\n",
              "      <td>285</td>\n",
              "      <td>998</td>\n",
              "      <td>9</td>\n",
              "      <td>None</td>\n",
              "      <td>None</td>\n",
              "      <td>No</td>\n",
              "      <td>No</td>\n",
              "      <td>No</td>\n",
              "      <td>No</td>\n",
              "      <td>No</td>\n",
              "      <td>No</td>\n",
              "      <td>Steady</td>\n",
              "      <td>No</td>\n",
              "      <td>No</td>\n",
              "      <td>Steady</td>\n",
              "      <td>No</td>\n",
              "      <td>No</td>\n",
              "      <td>No</td>\n",
              "      <td>No</td>\n",
              "      <td>No</td>\n",
              "      <td>No</td>\n",
              "      <td>No</td>\n",
              "      <td>Up</td>\n",
              "      <td>No</td>\n",
              "      <td>No</td>\n",
              "      <td>No</td>\n",
              "      <td>No</td>\n",
              "      <td>No</td>\n",
              "      <td>Ch</td>\n",
              "      <td>Yes</td>\n",
              "      <td>NO</td>\n",
              "    </tr>\n",
              "    <tr>\n",
              "      <th>101765</th>\n",
              "      <td>443867222</td>\n",
              "      <td>175429310</td>\n",
              "      <td>Caucasian</td>\n",
              "      <td>Male</td>\n",
              "      <td>[70-80)</td>\n",
              "      <td>?</td>\n",
              "      <td>1</td>\n",
              "      <td>1</td>\n",
              "      <td>7</td>\n",
              "      <td>6</td>\n",
              "      <td>?</td>\n",
              "      <td>?</td>\n",
              "      <td>13</td>\n",
              "      <td>3</td>\n",
              "      <td>3</td>\n",
              "      <td>0</td>\n",
              "      <td>0</td>\n",
              "      <td>0</td>\n",
              "      <td>530</td>\n",
              "      <td>530</td>\n",
              "      <td>787</td>\n",
              "      <td>9</td>\n",
              "      <td>None</td>\n",
              "      <td>None</td>\n",
              "      <td>No</td>\n",
              "      <td>No</td>\n",
              "      <td>No</td>\n",
              "      <td>No</td>\n",
              "      <td>No</td>\n",
              "      <td>No</td>\n",
              "      <td>No</td>\n",
              "      <td>No</td>\n",
              "      <td>No</td>\n",
              "      <td>No</td>\n",
              "      <td>No</td>\n",
              "      <td>No</td>\n",
              "      <td>No</td>\n",
              "      <td>No</td>\n",
              "      <td>No</td>\n",
              "      <td>No</td>\n",
              "      <td>No</td>\n",
              "      <td>No</td>\n",
              "      <td>No</td>\n",
              "      <td>No</td>\n",
              "      <td>No</td>\n",
              "      <td>No</td>\n",
              "      <td>No</td>\n",
              "      <td>No</td>\n",
              "      <td>No</td>\n",
              "      <td>NO</td>\n",
              "    </tr>\n",
              "  </tbody>\n",
              "</table>\n",
              "<p>101766 rows × 50 columns</p>\n",
              "</div>"
            ],
            "text/plain": [
              "        encounter_id  patient_nbr  ... diabetesMed readmitted\n",
              "0            2278392      8222157  ...          No         NO\n",
              "1             149190     55629189  ...         Yes        >30\n",
              "2              64410     86047875  ...         Yes         NO\n",
              "3             500364     82442376  ...         Yes         NO\n",
              "4              16680     42519267  ...         Yes         NO\n",
              "...              ...          ...  ...         ...        ...\n",
              "101761     443847548    100162476  ...         Yes        >30\n",
              "101762     443847782     74694222  ...         Yes         NO\n",
              "101763     443854148     41088789  ...         Yes         NO\n",
              "101764     443857166     31693671  ...         Yes         NO\n",
              "101765     443867222    175429310  ...          No         NO\n",
              "\n",
              "[101766 rows x 50 columns]"
            ]
          },
          "metadata": {
            "tags": []
          },
          "execution_count": 5
        }
      ]
    },
    {
      "cell_type": "markdown",
      "metadata": {
        "id": "QQhz-fRuQxuT"
      },
      "source": [
        "# **Cleaning**\n",
        "The original data set includes entries with missing values that are denoted as \"?\" which are discarded in our analysis. Features like specific medication and diagnosis codes that make more sense to a clinician are discarded as well. Finally, encounter ids and other features with more of an administrative function are discarded as well. For the initial iteration of this project, the features 'gender' and 'age' are being disregarded given the more relevant features relating to diabetic patients are already accounted for in the dataset. Some features will be integrated in the subsequent analysis.  \n",
        "\n",
        "**The following columns were discarded:**\n",
        "\n",
        "*'encounter_id', 'patient_nbr', 'race', 'gender', 'age', 'weight',\n",
        "       'admission_type_id', 'discharge_disposition_id', 'admission_source_id',\n",
        "       'time_in_hospital', 'payer_code', 'medical_specialty',\n",
        "       'num_lab_procedures', 'num_procedures', 'num_medications',\n",
        "       'number_outpatient', 'number_emergency', 'number_inpatient', 'diag_1',\n",
        "       'diag_2', 'diag_3', 'number_diagnoses', 'max_glu_serum', 'A1Cresult',\n",
        "       'metformin', 'repaglinide', 'nateglinide', 'chlorpropamide',\n",
        "       'glimepiride', 'acetohexamide', 'glipizide', 'glyburide', 'tolbutamide',\n",
        "       'pioglitazone', 'rosiglitazone', 'acarbose', 'miglitol', 'troglitazone',\n",
        "       'tolazamide', 'examide', 'citoglipton', 'insulin',\n",
        "       'glyburide-metformin', 'glipizide-metformin',\n",
        "       'glimepiride-pioglitazone', 'metformin-rosiglitazone',\n",
        "       'metformin-pioglitazone', 'change', 'diabetesMed', 'readmitted'*\n",
        "\n",
        "The cleaned dataset retained the 101766 rows but only retained 15 of 50 original columns. \n"
      ]
    },
    {
      "cell_type": "code",
      "metadata": {
        "colab": {
          "base_uri": "https://localhost:8080/"
        },
        "id": "M2fMWA0wWshM",
        "outputId": "f94fecd6-894e-438d-e7fe-8a88ef908ab8"
      },
      "source": [
        "diabetes.columns"
      ],
      "execution_count": null,
      "outputs": [
        {
          "output_type": "execute_result",
          "data": {
            "text/plain": [
              "Index(['encounter_id', 'patient_nbr', 'race', 'gender', 'age', 'weight',\n",
              "       'admission_type_id', 'discharge_disposition_id', 'admission_source_id',\n",
              "       'time_in_hospital', 'payer_code', 'medical_specialty',\n",
              "       'num_lab_procedures', 'num_procedures', 'num_medications',\n",
              "       'number_outpatient', 'number_emergency', 'number_inpatient', 'diag_1',\n",
              "       'diag_2', 'diag_3', 'number_diagnoses', 'max_glu_serum', 'A1Cresult',\n",
              "       'metformin', 'repaglinide', 'nateglinide', 'chlorpropamide',\n",
              "       'glimepiride', 'acetohexamide', 'glipizide', 'glyburide', 'tolbutamide',\n",
              "       'pioglitazone', 'rosiglitazone', 'acarbose', 'miglitol', 'troglitazone',\n",
              "       'tolazamide', 'examide', 'citoglipton', 'insulin',\n",
              "       'glyburide-metformin', 'glipizide-metformin',\n",
              "       'glimepiride-pioglitazone', 'metformin-rosiglitazone',\n",
              "       'metformin-pioglitazone', 'change', 'diabetesMed', 'readmitted'],\n",
              "      dtype='object')"
            ]
          },
          "metadata": {
            "tags": []
          },
          "execution_count": 6
        }
      ]
    },
    {
      "cell_type": "markdown",
      "metadata": {
        "id": "JhKanHHexaXR"
      },
      "source": [
        "Variables we do not need like variables about specific medication (other than insulin), payer code, admission type and certain interaction ids are dropped. The feature age was recorded in terms of numeric range and since the values are not easily discernable, we will drop age variable for now. Furthermore, we drop the diagnosis columns and instead focus on variables that are indicative of  high care utilization as well as relevant diabetes related procedures. "
      ]
    },
    {
      "cell_type": "code",
      "metadata": {
        "id": "ibnvuG7DVbC9"
      },
      "source": [
        "diabetes_clean=diabetes.drop([ 'patient_nbr', 'gender', 'age', 'weight',\n",
        "        'payer_code', 'medical_specialty','discharge_disposition_id',\n",
        "      'diag_1','admission_type_id','admission_source_id',\n",
        "       'diag_2', 'diag_3',\n",
        "       'metformin', 'repaglinide', 'nateglinide', 'chlorpropamide',\n",
        "       'glimepiride', 'acetohexamide', 'glipizide', 'glyburide', 'tolbutamide',\n",
        "       'pioglitazone', 'rosiglitazone', 'acarbose', 'miglitol', 'troglitazone',\n",
        "       'tolazamide', 'examide', 'citoglipton', \n",
        "       'glyburide-metformin', 'glipizide-metformin',\n",
        "       'glimepiride-pioglitazone', 'metformin-rosiglitazone',\n",
        "       'metformin-pioglitazone', 'change'], axis=1)"
      ],
      "execution_count": null,
      "outputs": []
    },
    {
      "cell_type": "markdown",
      "metadata": {
        "id": "2VbbwWBs1ElH"
      },
      "source": [
        "After reducing the number of features we have, we encoded nominal values as categories and used **.cat.codes** to assign the numeric values. We did this to the following variables: \n",
        "'encounter_id', \n",
        "'race', '\n",
        "'max_glu_serum'\n",
        " 'A1Cresult', \n",
        " 'insulin', \n",
        " 'diabetesMed', \n",
        " 'readmitted' "
      ]
    },
    {
      "cell_type": "code",
      "metadata": {
        "id": "RRIS3wwFCj-9",
        "colab": {
          "base_uri": "https://localhost:8080/"
        },
        "outputId": "6fafc7a4-d0d0-4827-95c1-97071107c50a"
      },
      "source": [
        "#The original unique nominal values \n",
        "diabetes['race'].unique()"
      ],
      "execution_count": null,
      "outputs": [
        {
          "output_type": "execute_result",
          "data": {
            "text/plain": [
              "array(['Caucasian', 'AfricanAmerican', '?', 'Other', 'Asian', 'Hispanic'],\n",
              "      dtype=object)"
            ]
          },
          "metadata": {
            "tags": []
          },
          "execution_count": 8
        }
      ]
    },
    {
      "cell_type": "code",
      "metadata": {
        "colab": {
          "base_uri": "https://localhost:8080/",
          "height": 216
        },
        "id": "KybuzXB2tW_R",
        "outputId": "3cb37e16-e52a-4846-a91a-aa631a3675c2"
      },
      "source": [
        "#code race as a cetgory then yse .cat.codes to create encodings\n",
        "diabetes_clean['race']= diabetes_clean['race'].astype('category')\n",
        "diabetes_clean['race']= diabetes_clean['race'].cat.codes\n",
        "diabetes_clean.head()"
      ],
      "execution_count": null,
      "outputs": [
        {
          "output_type": "execute_result",
          "data": {
            "text/html": [
              "<div>\n",
              "<style scoped>\n",
              "    .dataframe tbody tr th:only-of-type {\n",
              "        vertical-align: middle;\n",
              "    }\n",
              "\n",
              "    .dataframe tbody tr th {\n",
              "        vertical-align: top;\n",
              "    }\n",
              "\n",
              "    .dataframe thead th {\n",
              "        text-align: right;\n",
              "    }\n",
              "</style>\n",
              "<table border=\"1\" class=\"dataframe\">\n",
              "  <thead>\n",
              "    <tr style=\"text-align: right;\">\n",
              "      <th></th>\n",
              "      <th>encounter_id</th>\n",
              "      <th>race</th>\n",
              "      <th>time_in_hospital</th>\n",
              "      <th>num_lab_procedures</th>\n",
              "      <th>num_procedures</th>\n",
              "      <th>num_medications</th>\n",
              "      <th>number_outpatient</th>\n",
              "      <th>number_emergency</th>\n",
              "      <th>number_inpatient</th>\n",
              "      <th>number_diagnoses</th>\n",
              "      <th>max_glu_serum</th>\n",
              "      <th>A1Cresult</th>\n",
              "      <th>insulin</th>\n",
              "      <th>diabetesMed</th>\n",
              "      <th>readmitted</th>\n",
              "    </tr>\n",
              "  </thead>\n",
              "  <tbody>\n",
              "    <tr>\n",
              "      <th>0</th>\n",
              "      <td>2278392</td>\n",
              "      <td>3</td>\n",
              "      <td>1</td>\n",
              "      <td>41</td>\n",
              "      <td>0</td>\n",
              "      <td>1</td>\n",
              "      <td>0</td>\n",
              "      <td>0</td>\n",
              "      <td>0</td>\n",
              "      <td>1</td>\n",
              "      <td>None</td>\n",
              "      <td>None</td>\n",
              "      <td>No</td>\n",
              "      <td>No</td>\n",
              "      <td>NO</td>\n",
              "    </tr>\n",
              "    <tr>\n",
              "      <th>1</th>\n",
              "      <td>149190</td>\n",
              "      <td>3</td>\n",
              "      <td>3</td>\n",
              "      <td>59</td>\n",
              "      <td>0</td>\n",
              "      <td>18</td>\n",
              "      <td>0</td>\n",
              "      <td>0</td>\n",
              "      <td>0</td>\n",
              "      <td>9</td>\n",
              "      <td>None</td>\n",
              "      <td>None</td>\n",
              "      <td>Up</td>\n",
              "      <td>Yes</td>\n",
              "      <td>&gt;30</td>\n",
              "    </tr>\n",
              "    <tr>\n",
              "      <th>2</th>\n",
              "      <td>64410</td>\n",
              "      <td>1</td>\n",
              "      <td>2</td>\n",
              "      <td>11</td>\n",
              "      <td>5</td>\n",
              "      <td>13</td>\n",
              "      <td>2</td>\n",
              "      <td>0</td>\n",
              "      <td>1</td>\n",
              "      <td>6</td>\n",
              "      <td>None</td>\n",
              "      <td>None</td>\n",
              "      <td>No</td>\n",
              "      <td>Yes</td>\n",
              "      <td>NO</td>\n",
              "    </tr>\n",
              "    <tr>\n",
              "      <th>3</th>\n",
              "      <td>500364</td>\n",
              "      <td>3</td>\n",
              "      <td>2</td>\n",
              "      <td>44</td>\n",
              "      <td>1</td>\n",
              "      <td>16</td>\n",
              "      <td>0</td>\n",
              "      <td>0</td>\n",
              "      <td>0</td>\n",
              "      <td>7</td>\n",
              "      <td>None</td>\n",
              "      <td>None</td>\n",
              "      <td>Up</td>\n",
              "      <td>Yes</td>\n",
              "      <td>NO</td>\n",
              "    </tr>\n",
              "    <tr>\n",
              "      <th>4</th>\n",
              "      <td>16680</td>\n",
              "      <td>3</td>\n",
              "      <td>1</td>\n",
              "      <td>51</td>\n",
              "      <td>0</td>\n",
              "      <td>8</td>\n",
              "      <td>0</td>\n",
              "      <td>0</td>\n",
              "      <td>0</td>\n",
              "      <td>5</td>\n",
              "      <td>None</td>\n",
              "      <td>None</td>\n",
              "      <td>Steady</td>\n",
              "      <td>Yes</td>\n",
              "      <td>NO</td>\n",
              "    </tr>\n",
              "  </tbody>\n",
              "</table>\n",
              "</div>"
            ],
            "text/plain": [
              "   encounter_id  race  time_in_hospital  ...  insulin  diabetesMed  readmitted\n",
              "0       2278392     3                 1  ...       No           No          NO\n",
              "1        149190     3                 3  ...       Up          Yes         >30\n",
              "2         64410     1                 2  ...       No          Yes          NO\n",
              "3        500364     3                 2  ...       Up          Yes          NO\n",
              "4         16680     3                 1  ...   Steady          Yes          NO\n",
              "\n",
              "[5 rows x 15 columns]"
            ]
          },
          "metadata": {
            "tags": []
          },
          "execution_count": 9
        }
      ]
    },
    {
      "cell_type": "code",
      "metadata": {
        "colab": {
          "base_uri": "https://localhost:8080/"
        },
        "id": "7EcWx3qjyrOy",
        "outputId": "0f4ddf93-b1a0-4098-d256-9da654acd264"
      },
      "source": [
        "#resultant encoding for race \n",
        "diabetes_clean['race'].unique()"
      ],
      "execution_count": null,
      "outputs": [
        {
          "output_type": "execute_result",
          "data": {
            "text/plain": [
              "array([3, 1, 0, 5, 2, 4], dtype=int8)"
            ]
          },
          "metadata": {
            "tags": []
          },
          "execution_count": 10
        }
      ]
    },
    {
      "cell_type": "code",
      "metadata": {
        "id": "htDVtF2q1uzz"
      },
      "source": [
        "#code  glucose results as a cetgory then yse .cat.codes to create encodings\n",
       
      ],
      "execution_count": null,
      "outputs": []
    },
    {
      "cell_type": "code",
      "metadata": {
        "colab": {
          "base_uri": "https://localhost:8080/"
        },
        "id": "GU1l3SG4cpTd",
        "outputId": "e005f452-bed4-400d-d585-b6ca61f461bd"
      },
      "source": [
        "# Original values \n",
        "diabetes['max_glu_serum'].unique()"
      ],
      "execution_count": null,
      "outputs": [
        {
          "output_type": "execute_result",
          "data": {
            "text/plain": [
              "array(['None', '>300', 'Norm', '>200'], dtype=object)"
            ]
          },
          "metadata": {
            "tags": []
          },
          "execution_count": 12
        }
      ]
    },
    {
      "cell_type": "code",
      "metadata": {
        "colab": {
          "base_uri": "https://localhost:8080/"
        },
        "id": "2rzTix3s16Ig",
        "outputId": "af1ef87c-c977-4a84-ed8a-7b32a363ba63"
      },
      "source": [
        "diabetes_clean['max_glu_serum'].unique()"
      ],
      "execution_count": null,
      "outputs": [
        {
          "output_type": "execute_result",
          "data": {
            "text/plain": [
              "array([2, 1, 3, 0], dtype=int8)"
            ]
          },
          "metadata": {
            "tags": []
          },
          "execution_count": 13
        }
      ]
    },
    {
      "cell_type": "code",
      "metadata": {
        "id": "02-E-AR52MN0"
      },
      "source": [
       
      ],
      "execution_count": null,
      "outputs": []
    },
    {
      "cell_type": "code",
      "metadata": {
        "colab": {
          "base_uri": "https://localhost:8080/"
        },
        "id": "pi7NODvTctNb",
        "outputId": "323cdb22-e77e-45cf-f2fb-d5ef448b5174"
      },
      "source": [
        "# Original Values \n",
        "diabetes['A1Cresult'].unique()"
      ],
      "execution_count": null,
      "outputs": [
        {
          "output_type": "execute_result",
          "data": {
            "text/plain": [
              "array(['None', '>7', '>8', 'Norm'], dtype=object)"
            ]
          },
          "metadata": {
            "tags": []
          },
          "execution_count": 15
        }
      ]
    },
    {
      "cell_type": "code",
      "metadata": {
        "colab": {
          "base_uri": "https://localhost:8080/"
        },
        "id": "ZiOPW9rn2uL-",
        "outputId": "cf725342-77cd-498e-efd2-82f202a53767"
      },
      "source": [
        "# Resultant Encoding\n",
        "diabetes_clean['A1Cresult'].unique()"
      ],
      "execution_count": null,
      "outputs": [
        {
          "output_type": "execute_result",
          "data": {
            "text/plain": [
              "array([2, 0, 1, 3], dtype=int8)"
            ]
          },
          "metadata": {
            "tags": []
          },
          "execution_count": 16
        }
      ]
    },
    {
      "cell_type": "code",
      "metadata": {
        "id": "24XefqZH6IQh"
      },
      "source": [
        "#code insulin results as a catgory then yse .cat.codes to create encodings\n",
       
      ],
      "execution_count": null,
      "outputs": []
    },
    {
      "cell_type": "code",
      "metadata": {
        "colab": {
          "base_uri": "https://localhost:8080/"
        },
        "id": "qqOdWqvNczxS",
        "outputId": "b726cd63-8f1a-4751-94e5-eb4a2a36d52a"
      },
      "source": [
        "#Original Values\n",
        "diabetes['insulin'].unique() "
      ],
      "execution_count": null,
      "outputs": [
        {
          "output_type": "execute_result",
          "data": {
            "text/plain": [
              "array(['No', 'Up', 'Steady', 'Down'], dtype=object)"
            ]
          },
          "metadata": {
            "tags": []
          },
          "execution_count": 18
        }
      ]
    },
    {
      "cell_type": "code",
      "metadata": {
        "colab": {
          "base_uri": "https://localhost:8080/"
        },
        "id": "UQKRarq47lim",
        "outputId": "bf44f6ab-ac0d-43d0-cee8-370b30d17edd"
      },
      "source": [
        "diabetes_clean['insulin'].unique() "
      ],
      "execution_count": null,
      "outputs": [
        {
          "output_type": "execute_result",
          "data": {
            "text/plain": [
              "array([1, 3, 2, 0], dtype=int8)"
            ]
          },
          "metadata": {
            "tags": []
          },
          "execution_count": 19
        }
      ]
    },
    {
      "cell_type": "code",
      "metadata": {
        "id": "ONWd2pt57xxs"
      },
      "source": [
        "diabetes_clean['diabetesMed']= diabetes_clean['diabetesMed'].astype('category')\n",
        "diabetes_clean['diabetesMed']= diabetes_clean['diabetesMed'].cat.codes"
      ],
      "execution_count": null,
      "outputs": []
    },
    {
      "cell_type": "code",
      "metadata": {
        "colab": {
          "base_uri": "https://localhost:8080/"
        },
        "id": "6G286T7Pc0ea",
        "outputId": "ab52b68a-289b-404b-f566-9c64c2c90c98"
      },
      "source": [
        "# Original Values \n",
        "diabetes['diabetesMed'].unique()"
      ],
      "execution_count": null,
      "outputs": [
        {
          "output_type": "execute_result",
          "data": {
            "text/plain": [
              "array(['No', 'Yes'], dtype=object)"
            ]
          },
          "metadata": {
            "tags": []
          },
          "execution_count": 21
        }
      ]
    },
    {
      "cell_type": "code",
      "metadata": {
        "colab": {
          "base_uri": "https://localhost:8080/"
        },
        "id": "s6fPzEfm8Fzx",
        "outputId": "b48e36ed-36a2-4008-c231-64a72b4dbd48"
      },
      "source": [
        "diabetes_clean['diabetesMed'].unique()"
      ],
      "execution_count": null,
      "outputs": [
        {
          "output_type": "execute_result",
          "data": {
            "text/plain": [
              "array([0, 1], dtype=int8)"
            ]
          },
          "metadata": {
            "tags": []
          },
          "execution_count": 22
        }
      ]
    },
    {
      "cell_type": "code",
      "metadata": {
        "id": "n1ypAzU28OaK"
      },
      "source": [
        "diabetes_clean['readmitted']= diabetes_clean['readmitted'].astype('category')\n",
        "diabetes_clean['readmitted']= diabetes_clean['readmitted'].cat.codes"
      ],
      "execution_count": null,
      "outputs": []
    },
    {
      "cell_type": "code",
      "metadata": {
        "colab": {
          "base_uri": "https://localhost:8080/"
        },
        "id": "lzGNCjtLc0ny",
        "outputId": "1f4e8ba8-3eea-49ff-d746-ad054a1525be"
      },
      "source": [
        "# Original Values \n",
        "diabetes['readmitted'].unique()"
      ],
      "execution_count": null,
      "outputs": [
        {
          "output_type": "execute_result",
          "data": {
            "text/plain": [
              "array(['NO', '>30', '<30'], dtype=object)"
            ]
          },
          "metadata": {
            "tags": []
          },
          "execution_count": 24
        }
      ]
    },
    {
      "cell_type": "code",
      "metadata": {
        "colab": {
          "base_uri": "https://localhost:8080/"
        },
        "id": "-ITITvEh8akg",
        "outputId": "2a9b04a3-b8b5-42f9-8f71-d5c5178f2dfc"
      },
      "source": [
        "#Encoded Values \n",
        "diabetes_clean['readmitted'].unique()"
      ],
      "execution_count": null,
      "outputs": [
        {
          "output_type": "execute_result",
          "data": {
            "text/plain": [
              "array([2, 1, 0], dtype=int8)"
            ]
          },
          "metadata": {
            "tags": []
          },
          "execution_count": 25
        }
      ]
    },
    {
      "cell_type": "markdown",
      "metadata": {
        "id": "7yD1pJi8AtEK"
      },
      "source": [
        "Inorder to simplify our analysis, we make the target variable binary meaning we will not differentiate between admission done < 30 days from those that are > 30 days. Non readmission was initially encoded as the value '2' while readmissions '<30' days are encoded as the value 0. We replace all entries with value '0' as 1 to count it as a readmission while we replace all entries with value '2' as 0 to indicate a non readmission event. "
      ]
    },
    {
      "cell_type": "code",
      "metadata": {
        "id": "VuNjn6Pf3nG7"
      },
      "source": [
        "diabetes_clean['readmitted'].replace({0:1}, inplace=True)\n",
        "diabetes_clean['readmitted'].replace({2:0}, inplace=True)\n"
      ],
      "execution_count": null,
      "outputs": []
    },
    {
      "cell_type": "markdown",
      "metadata": {
        "id": "Uf0yYDQyeLX0"
      },
      "source": [
        "Finally, our target variable 'readmitted' will have a value of 0 if patient was not readmitted and  1  if patient was indeed readmitted. "
      ]
    },
    {
      "cell_type": "code",
      "metadata": {
        "colab": {
          "base_uri": "https://localhost:8080/"
        },
        "id": "bjvqoVH65WLp",
        "outputId": "89e345a1-dce0-4b3c-8b6d-e6ae1fc06d74"
      },
      "source": [
        "diabetes_clean['readmitted'].unique()"
      ],
      "execution_count": null,
      "outputs": [
        {
          "output_type": "execute_result",
          "data": {
            "text/plain": [
              "array([0, 1])"
            ]
          },
          "metadata": {
            "tags": []
          },
          "execution_count": 27
        }
      ]
    },
    {
      "cell_type": "code",
      "metadata": {
        "colab": {
          "base_uri": "https://localhost:8080/"
        },
        "id": "RIPe_z3df51C",
        "outputId": "3e29c5d9-360c-43b5-a131-0681fddc1e18"
      },
      "source": [
        "diabetes_clean.columns\n"
      ],
      "execution_count": null,
      "outputs": [
        {
          "output_type": "execute_result",
          "data": {
            "text/plain": [
              "Index(['encounter_id', 'race', 'time_in_hospital', 'num_lab_procedures',\n",
              "       'num_procedures', 'num_medications', 'number_outpatient',\n",
              "       'number_emergency', 'number_inpatient', 'number_diagnoses',\n",
              "       'max_glu_serum', 'A1Cresult', 'insulin', 'diabetesMed', 'readmitted'],\n",
              "      dtype='object')"
            ]
          },
          "metadata": {
            "tags": []
          },
          "execution_count": 28
        }
      ]
    },
    {
      "cell_type": "code",
      "metadata": {
        "colab": {
          "base_uri": "https://localhost:8080/",
          "height": 424
        },
        "id": "GgAGClcp9FBT",
        "outputId": "4191a67c-3379-414b-f59e-b0a83e850749"
      },
      "source": [
        "diabetes_clean"
      ],
      "execution_count": null,
      "outputs": [
        {
          "output_type": "execute_result",
          "data": {
            "text/html": [
              "<div>\n",
              "<style scoped>\n",
              "    .dataframe tbody tr th:only-of-type {\n",
              "        vertical-align: middle;\n",
              "    }\n",
              "\n",
              "    .dataframe tbody tr th {\n",
              "        vertical-align: top;\n",
              "    }\n",
              "\n",
              "    .dataframe thead th {\n",
              "        text-align: right;\n",
              "    }\n",
              "</style>\n",
              "<table border=\"1\" class=\"dataframe\">\n",
              "  <thead>\n",
              "    <tr style=\"text-align: right;\">\n",
              "      <th></th>\n",
              "      <th>encounter_id</th>\n",
              "      <th>race</th>\n",
              "      <th>time_in_hospital</th>\n",
              "      <th>num_lab_procedures</th>\n",
              "      <th>num_procedures</th>\n",
              "      <th>num_medications</th>\n",
              "      <th>number_outpatient</th>\n",
              "      <th>number_emergency</th>\n",
              "      <th>number_inpatient</th>\n",
              "      <th>number_diagnoses</th>\n",
              "      <th>max_glu_serum</th>\n",
              "      <th>A1Cresult</th>\n",
              "      <th>insulin</th>\n",
              "      <th>diabetesMed</th>\n",
              "      <th>readmitted</th>\n",
              "    </tr>\n",
              "  </thead>\n",
              "  <tbody>\n",
              "    <tr>\n",
              "      <th>0</th>\n",
              "      <td>2278392</td>\n",
              "      <td>3</td>\n",
              "      <td>1</td>\n",
              "      <td>41</td>\n",
              "      <td>0</td>\n",
              "      <td>1</td>\n",
              "      <td>0</td>\n",
              "      <td>0</td>\n",
              "      <td>0</td>\n",
              "      <td>1</td>\n",
              "      <td>2</td>\n",
              "      <td>2</td>\n",
              "      <td>1</td>\n",
              "      <td>0</td>\n",
              "      <td>0</td>\n",
              "    </tr>\n",
              "    <tr>\n",
              "      <th>1</th>\n",
              "      <td>149190</td>\n",
              "      <td>3</td>\n",
              "      <td>3</td>\n",
              "      <td>59</td>\n",
              "      <td>0</td>\n",
              "      <td>18</td>\n",
              "      <td>0</td>\n",
              "      <td>0</td>\n",
              "      <td>0</td>\n",
              "      <td>9</td>\n",
              "      <td>2</td>\n",
              "      <td>2</td>\n",
              "      <td>3</td>\n",
              "      <td>1</td>\n",
              "      <td>1</td>\n",
              "    </tr>\n",
              "    <tr>\n",
              "      <th>2</th>\n",
              "      <td>64410</td>\n",
              "      <td>1</td>\n",
              "      <td>2</td>\n",
              "      <td>11</td>\n",
              "      <td>5</td>\n",
              "      <td>13</td>\n",
              "      <td>2</td>\n",
              "      <td>0</td>\n",
              "      <td>1</td>\n",
              "      <td>6</td>\n",
              "      <td>2</td>\n",
              "      <td>2</td>\n",
              "      <td>1</td>\n",
              "      <td>1</td>\n",
              "      <td>0</td>\n",
              "    </tr>\n",
              "    <tr>\n",
              "      <th>3</th>\n",
              "      <td>500364</td>\n",
              "      <td>3</td>\n",
              "      <td>2</td>\n",
              "      <td>44</td>\n",
              "      <td>1</td>\n",
              "      <td>16</td>\n",
              "      <td>0</td>\n",
              "      <td>0</td>\n",
              "      <td>0</td>\n",
              "      <td>7</td>\n",
              "      <td>2</td>\n",
              "      <td>2</td>\n",
              "      <td>3</td>\n",
              "      <td>1</td>\n",
              "      <td>0</td>\n",
              "    </tr>\n",
              "    <tr>\n",
              "      <th>4</th>\n",
              "      <td>16680</td>\n",
              "      <td>3</td>\n",
              "      <td>1</td>\n",
              "      <td>51</td>\n",
              "      <td>0</td>\n",
              "      <td>8</td>\n",
              "      <td>0</td>\n",
              "      <td>0</td>\n",
              "      <td>0</td>\n",
              "      <td>5</td>\n",
              "      <td>2</td>\n",
              "      <td>2</td>\n",
              "      <td>2</td>\n",
              "      <td>1</td>\n",
              "      <td>0</td>\n",
              "    </tr>\n",
              "    <tr>\n",
              "      <th>...</th>\n",
              "      <td>...</td>\n",
              "      <td>...</td>\n",
              "      <td>...</td>\n",
              "      <td>...</td>\n",
              "      <td>...</td>\n",
              "      <td>...</td>\n",
              "      <td>...</td>\n",
              "      <td>...</td>\n",
              "      <td>...</td>\n",
              "      <td>...</td>\n",
              "      <td>...</td>\n",
              "      <td>...</td>\n",
              "      <td>...</td>\n",
              "      <td>...</td>\n",
              "      <td>...</td>\n",
              "    </tr>\n",
              "    <tr>\n",
              "      <th>101761</th>\n",
              "      <td>443847548</td>\n",
              "      <td>1</td>\n",
              "      <td>3</td>\n",
              "      <td>51</td>\n",
              "      <td>0</td>\n",
              "      <td>16</td>\n",
              "      <td>0</td>\n",
              "      <td>0</td>\n",
              "      <td>0</td>\n",
              "      <td>9</td>\n",
              "      <td>2</td>\n",
              "      <td>1</td>\n",
              "      <td>0</td>\n",
              "      <td>1</td>\n",
              "      <td>1</td>\n",
              "    </tr>\n",
              "    <tr>\n",
              "      <th>101762</th>\n",
              "      <td>443847782</td>\n",
              "      <td>1</td>\n",
              "      <td>5</td>\n",
              "      <td>33</td>\n",
              "      <td>3</td>\n",
              "      <td>18</td>\n",
              "      <td>0</td>\n",
              "      <td>0</td>\n",
              "      <td>1</td>\n",
              "      <td>9</td>\n",
              "      <td>2</td>\n",
              "      <td>2</td>\n",
              "      <td>2</td>\n",
              "      <td>1</td>\n",
              "      <td>0</td>\n",
              "    </tr>\n",
              "    <tr>\n",
              "      <th>101763</th>\n",
              "      <td>443854148</td>\n",
              "      <td>3</td>\n",
              "      <td>1</td>\n",
              "      <td>53</td>\n",
              "      <td>0</td>\n",
              "      <td>9</td>\n",
              "      <td>1</td>\n",
              "      <td>0</td>\n",
              "      <td>0</td>\n",
              "      <td>13</td>\n",
              "      <td>2</td>\n",
              "      <td>2</td>\n",
              "      <td>0</td>\n",
              "      <td>1</td>\n",
              "      <td>0</td>\n",
              "    </tr>\n",
              "    <tr>\n",
              "      <th>101764</th>\n",
              "      <td>443857166</td>\n",
              "      <td>3</td>\n",
              "      <td>10</td>\n",
              "      <td>45</td>\n",
              "      <td>2</td>\n",
              "      <td>21</td>\n",
              "      <td>0</td>\n",
              "      <td>0</td>\n",
              "      <td>1</td>\n",
              "      <td>9</td>\n",
              "      <td>2</td>\n",
              "      <td>2</td>\n",
              "      <td>3</td>\n",
              "      <td>1</td>\n",
              "      <td>0</td>\n",
              "    </tr>\n",
              "    <tr>\n",
              "      <th>101765</th>\n",
              "      <td>443867222</td>\n",
              "      <td>3</td>\n",
              "      <td>6</td>\n",
              "      <td>13</td>\n",
              "      <td>3</td>\n",
              "      <td>3</td>\n",
              "      <td>0</td>\n",
              "      <td>0</td>\n",
              "      <td>0</td>\n",
              "      <td>9</td>\n",
              "      <td>2</td>\n",
              "      <td>2</td>\n",
              "      <td>1</td>\n",
              "      <td>0</td>\n",
              "      <td>0</td>\n",
              "    </tr>\n",
              "  </tbody>\n",
              "</table>\n",
              "<p>101766 rows × 15 columns</p>\n",
              "</div>"
            ],
            "text/plain": [
              "        encounter_id  race  time_in_hospital  ...  insulin  diabetesMed  readmitted\n",
              "0            2278392     3                 1  ...        1            0           0\n",
              "1             149190     3                 3  ...        3            1           1\n",
              "2              64410     1                 2  ...        1            1           0\n",
              "3             500364     3                 2  ...        3            1           0\n",
              "4              16680     3                 1  ...        2            1           0\n",
              "...              ...   ...               ...  ...      ...          ...         ...\n",
              "101761     443847548     1                 3  ...        0            1           1\n",
              "101762     443847782     1                 5  ...        2            1           0\n",
              "101763     443854148     3                 1  ...        0            1           0\n",
              "101764     443857166     3                10  ...        3            1           0\n",
              "101765     443867222     3                 6  ...        1            0           0\n",
              "\n",
              "[101766 rows x 15 columns]"
            ]
          },
          "metadata": {
            "tags": []
          },
          "execution_count": 29
        }
      ]
    },
    {
      "cell_type": "code",
      "metadata": {
        "colab": {
          "base_uri": "https://localhost:8080/"
        },
        "id": "hHH8JiBB_Beh",
        "outputId": "84127e43-3b44-4361-e683-1aa150918931"
      },
      "source": [
        "#All Numeric \n",
        "diabetes_clean.dtypes"
      ],
      "execution_count": null,
      "outputs": [
        {
          "output_type": "execute_result",
          "data": {
            "text/plain": [
              "encounter_id          int64\n",
              "race                   int8\n",
              "time_in_hospital      int64\n",
              "num_lab_procedures    int64\n",
              "num_procedures        int64\n",
              "num_medications       int64\n",
              "number_outpatient     int64\n",
              "number_emergency      int64\n",
              "number_inpatient      int64\n",
              "number_diagnoses      int64\n",
              "max_glu_serum          int8\n",
              "A1Cresult              int8\n",
              "insulin                int8\n",
              "diabetesMed            int8\n",
              "readmitted            int64\n",
              "dtype: object"
            ]
          },
          "metadata": {
            "tags": []
          },
          "execution_count": 30
        }
      ]
    },
    {
      "cell_type": "markdown",
      "metadata": {
        "id": "-_VeRBjrBcRr"
      },
      "source": [
        "We have successfully reduced the number of columns and created numeric encodings for the nominal values in the dataset.  "
      ]
    },
    {
      "cell_type": "markdown",
      "metadata": {
        "id": "hdnRmAkJVQze"
      },
      "source": [
        "# **Approach**\n",
        "Basically, we want to know if we can create a model that can adequately identify if a diabetic patient will be readmitted or not based on general information about the patient's previous care utilization and other diagnostic indicators unique to diabetic patients. \n",
        "\n"
      ]
    },
    {
      "cell_type": "markdown",
      "metadata": {
        "id": "1D5ryHPwidOZ"
      },
      "source": [
        "First, we create our target (y)  and feature (x)  dataframes. Then we divide the x and y dataframes into training and test sets. "
      ]
    },
    {
      "cell_type": "code",
      "metadata": {
        "id": "AWcibZO_Vw7q"
      },
      "source": [
        "\n",
        "X=diabetes_clean.drop('readmitted',axis=1)\n",
        "y=diabetes_clean['readmitted']"
      ],
      "execution_count": null,
      "outputs": []
    },
    {
      "cell_type": "code",
      "metadata": {
        "id": "rArBFbULVzP2"
      },
      "source": [
        "X_train, X_test, y_train, y_test = train_test_split(X,y,test_size=0.3, random_state=5)"
      ],
      "execution_count": null,
      "outputs": []
    },
    {
      "cell_type": "markdown",
      "metadata": {
        "id": "zG3FOKG6jCdk"
      },
      "source": [
        "Check for imbalance and it seems like we do not have one. "
      ]
    },
    {
      "cell_type": "code",
      "metadata": {
        "colab": {
          "base_uri": "https://localhost:8080/",
          "height": 281
        },
        "id": "mGrT6-RJUMmU",
        "outputId": "ec8c3db5-636a-4a32-8911-21d57221ea6b"
      },
      "source": [
        " \n",
        "diabetes_clean.readmitted.hist()"
      ],
      "execution_count": null,
      "outputs": [
        {
          "output_type": "execute_result",
          "data": {
            "text/plain": [
              "<matplotlib.axes._subplots.AxesSubplot at 0x7f62c2e995d0>"
            ]
          },
          "metadata": {
            "tags": []
          },
          "execution_count": 33
        },
        {
          "output_type": "display_data",
          "data": {
            "image/png": "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\n",
            "text/plain": [
              "<Figure size 432x288 with 1 Axes>"
            ]
          },
          "metadata": {
            "tags": [],
            "needs_background": "light"
          }
        }
      ]
    },
    {
      "cell_type": "code",
      "metadata": {
        "id": "qWn3peHnxTb1"
      },
      "source": [
        "scaler = StandardScaler().fit(X_train)\n",
        "X_scaled=scaler.transform(X_train)\n"
      ],
      "execution_count": null,
      "outputs": []
    },
    {
      "cell_type": "markdown",
      "metadata": {
        "id": "ywQBSBRLATj5"
      },
      "source": [
        "# **Random Forest**"
      ]
    },
    {
      "cell_type": "code",
      "metadata": {
        "id": "GNwn97Vxhvl1"
      },
      "source": [
        "rf=RandomForestClassifier(n_estimators = 50, max_features='sqrt',max_depth=4,random_state=0).fit(X_train,y_train)"
      ],
      "execution_count": null,
      "outputs": []
    },
    {
      "cell_type": "code",
      "metadata": {
        "id": "KCMHHUuFd5wX"
      },
      "source": [
        "num_trees1=[50,100,200]"
      ],
      "execution_count": null,
      "outputs": []
    },
    {
      "cell_type": "code",
      "metadata": {
        "colab": {
          "base_uri": "https://localhost:8080/"
        },
        "id": "wSapFF52eVIt",
        "outputId": "55781961-8ced-441b-94cf-9c2b9c51ce6e"
      },
      "source": [
        "#runs slow\n",
        "cvres=[]\n",
        "for num in tqdm(num_trees1):\n",
        "    rf = RandomForestClassifier(n_estimators = num, max_features='sqrt',max_depth=4,random_state=0)\n",
        "    cvclf = cross_validate(rf, X_scaled, y_train, cv=5, scoring='f1_weighted')\n",
        "    cvres.append(cvclf['test_score'].mean())"
      ],
      "execution_count": null,
      "outputs": [
        {
          "output_type": "stream",
          "text": [
            "100%|██████████| 3/3 [00:38<00:00, 12.80s/it]\n"
          ],
          "name": "stderr"
        }
      ]
    },
    {
      "cell_type": "code",
      "metadata": {
        "colab": {
          "base_uri": "https://localhost:8080/",
          "height": 281
        },
        "id": "GnNIJxL1eeqY",
        "outputId": "dd3659c0-19d7-4fa6-ba24-04ec5f683516"
      },
      "source": [
        "plt.plot(num_trees1,cvres)"
      ],
      "execution_count": null,
      "outputs": [
        {
          "output_type": "execute_result",
          "data": {
            "text/plain": [
              "[<matplotlib.lines.Line2D at 0x7f62c2ea1810>]"
            ]
          },
          "metadata": {
            "tags": []
          },
          "execution_count": 41
        },
        {
          "output_type": "display_data",
          "data": {
            "image/png": "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\n",
            "text/plain": [
              "<Figure size 432x288 with 1 Axes>"
            ]
          },
          "metadata": {
            "tags": [],
            "needs_background": "light"
          }
        }
      ]
    },
    {
      "cell_type": "markdown",
      "metadata": {
        "id": "hFiPJRSsosyP"
      },
      "source": [
        "It looks like we get the optimal results when num_estimators = 100 and so we refit our random forest model with 100 estimators. "
      ]
    },
    {
      "cell_type": "code",
      "metadata": {
        "id": "hIBfFYLOeip5"
      },
      "source": [
        "rf=RandomForestClassifier(n_estimators = 100, max_features='sqrt',max_depth=4,random_state=0).fit(X_train,y_train)"
      ],
      "execution_count": null,
      "outputs": []
    },
    {
      "cell_type": "code",
      "metadata": {
        "colab": {
          "base_uri": "https://localhost:8080/"
        },
        "id": "1zioLireema5",
        "outputId": "f182646a-d734-4626-c537-e4d9a396bbdd"
      },
      "source": [
        "f1_score(y_test,rf.predict(X_test), average='weighted')"
      ],
      "execution_count": null,
      "outputs": [
        {
          "output_type": "execute_result",
          "data": {
            "text/plain": [
              "0.6223164964528927"
            ]
          },
          "metadata": {
            "tags": []
          },
          "execution_count": 43
        }
      ]
    },
    {
      "cell_type": "code",
      "metadata": {
        "colab": {
          "base_uri": "https://localhost:8080/"
        },
        "id": "Riy9O1x0l1qd",
        "outputId": "55443e90-8681-40ed-8040-d9668846138e"
      },
      "source": [
        "print(classification_report(y_test,rf.predict(X_test)))"
      ],
      "execution_count": null,
      "outputs": [
        {
          "output_type": "stream",
          "text": [
            "              precision    recall  f1-score   support\n",
            "\n",
            "           0       0.63      0.77      0.69     16503\n",
            "           1       0.64      0.47      0.54     14027\n",
            "\n",
            "    accuracy                           0.63     30530\n",
            "   macro avg       0.63      0.62      0.62     30530\n",
            "weighted avg       0.63      0.63      0.62     30530\n",
            "\n"
          ],
          "name": "stdout"
        }
      ]
    },
    {
      "cell_type": "markdown",
      "metadata": {
        "id": "mcci1680bR9l"
      },
      "source": [
        "This RF model with 100 estimators has an overall f1 score of .63 which is not particularly bad but definitely can do better. For the context of this classification problem, both the precision and recall scores can be useful and this model seems to have a balanced level of accuracy in classifying readmissions (at .64) and non-readmissions( at .63) in terms of precision score. In contrast, this model does better in classifying non-readmissions (.77) than readmissions (.47) in terms of recall score. The overall f1 score seems to be better with non readmissions as well. "
      ]
    },
    {
      "cell_type": "markdown",
      "metadata": {
        "id": "99QlpyGtAYAo"
      },
      "source": [
        "# **Bagging**"
      ]
    },
    {
      "cell_type": "code",
      "metadata": {
        "id": "veA0hycFAeD3"
      },
      "source": [
        "num_trees2=[100,150,200]"
      ],
      "execution_count": null,
      "outputs": []
    },
    {
      "cell_type": "code",
      "metadata": {
        "colab": {
          "base_uri": "https://localhost:8080/"
        },
        "id": "zHxFs710AeS9",
        "outputId": "bb071758-9b21-444d-9978-0f36f5439ed9"
      },
      "source": [
        "#may take awhile \n",
        "oob_res=[]\n",
        "for trs in tqdm(num_trees2):\n",
        "    res = BaggingClassifier(base_estimator=DecisionTreeClassifier(),n_estimators=trs,oob_score=True,random_state=0).fit(X_train, y_train)\n",
        "    oob_res.append(res.oob_score_)"
      ],
      "execution_count": null,
      "outputs": [
        {
          "output_type": "stream",
          "text": [
            "100%|██████████| 3/3 [02:41<00:00, 53.68s/it]\n"
          ],
          "name": "stderr"
        }
      ]
    },
    {
      "cell_type": "code",
      "metadata": {
        "collapsed": true,
        "id": "loved-congress",
        "colab": {
          "base_uri": "https://localhost:8080/",
          "height": 281
        },
        "outputId": "ff7a5284-9173-4c75-ecc4-ed2e8defe323"
      },
      "source": [
        "plt.plot(num_trees2,oob_res)"
      ],
      "execution_count": null,
      "outputs": [
        {
          "output_type": "execute_result",
          "data": {
            "text/plain": [
              "[<matplotlib.lines.Line2D at 0x7f65dedd3910>]"
            ]
          },
          "metadata": {
            "tags": []
          },
          "execution_count": 78
        },
        {
          "output_type": "display_data",
          "data": {
            "image/png": "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\n",
            "text/plain": [
              "<Figure size 432x288 with 1 Axes>"
            ]
          },
          "metadata": {
            "tags": [],
            "needs_background": "light"
          }
        }
      ]
    },
    {
      "cell_type": "markdown",
      "metadata": {
        "id": "6GV3D1jd8Oh9"
      },
      "source": [
        "It looks like we get the optimal results when num_estimators = 150 and so we refit our random forest model with 150 estimators. "
      ]
    },
    {
      "cell_type": "code",
      "metadata": {
        "id": "i3NXCAH9zbSY"
      },
      "source": [
        "regr = BaggingClassifier(base_estimator=DecisionTreeClassifier(),n_estimators=150,random_state=0).fit(X_train, y_train)"
      ],
      "execution_count": null,
      "outputs": []
    },
    {
      "cell_type": "code",
      "metadata": {
        "colab": {
          "base_uri": "https://localhost:8080/"
        },
        "id": "JA7YMKaLz5z-",
        "outputId": "aed04257-f9a6-4265-f89a-629e4f082473"
      },
      "source": [
        "regr.score(X_test,y_test)"
      ],
      "execution_count": null,
      "outputs": [
        {
          "output_type": "execute_result",
          "data": {
            "text/plain": [
              "0.6183098591549295"
            ]
          },
          "metadata": {
            "tags": []
          },
          "execution_count": 48
        }
      ]
    },
    {
      "cell_type": "code",
      "metadata": {
        "colab": {
          "base_uri": "https://localhost:8080/"
        },
        "id": "CQm1XwDq7vQQ",
        "outputId": "32d84767-9a0f-4864-9804-49dcf9eb347a"
      },
      "source": [
        "print(classification_report(y_test,regr.predict(X_test)))"
      ],
      "execution_count": null,
      "outputs": [
        {
          "output_type": "stream",
          "text": [
            "              precision    recall  f1-score   support\n",
            "\n",
            "           0       0.64      0.69      0.66     16503\n",
            "           1       0.59      0.53      0.56     14027\n",
            "\n",
            "    accuracy                           0.62     30530\n",
            "   macro avg       0.61      0.61      0.61     30530\n",
            "weighted avg       0.62      0.62      0.62     30530\n",
            "\n"
          ],
          "name": "stdout"
        }
      ]
    },
    {
      "cell_type": "markdown",
      "metadata": {
        "id": "Wd2QPH4dftLY"
      },
      "source": [
        "Bagging on the other hand seems to do better across precision, recall and f1 scores in terms of predicting non readmissions at a slight expense to  the performance  on classifying readmissions. However, the overall accuracy score of .62 does not differ much from the RF model with its accuracy score of .63."
      ]
    },
    {
      "cell_type": "markdown",
      "metadata": {
        "id": "5xLUww2dAerq"
      },
      "source": [
        "# **Gradient Boosting**"
      ]
    },
    {
      "cell_type": "code",
      "metadata": {
        "id": "09H9cHudoC4M"
      },
      "source": [
        "bmod = GradientBoostingClassifier(random_state=0)"
      ],
      "execution_count": null,
      "outputs": []
    },
    {
      "cell_type": "code",
      "metadata": {
        "id": "TFoeST-epgv6"
      },
      "source": [
        "parameters = {'learning_rate':[0.1,0.01], 'n_estimators':[5,10,15],'max_depth':[5,10,15,20]}"
      ],
      "execution_count": null,
      "outputs": []
    },
    {
      "cell_type": "code",
      "metadata": {
        "colab": {
          "base_uri": "https://localhost:8080/"
        },
        "id": "q6GI2p07oEiw",
        "outputId": "c9d9f24b-809a-4542-e08c-35c41e860c58"
      },
      "source": [
        "# runs slow < 10 mins\n",
        "boost_regr = GridSearchCV(bmod, parameters)\n",
        "boost_regr.fit(X_train, y_train)"
      ],
      "execution_count": null,
      "outputs": [
        {
          "output_type": "execute_result",
          "data": {
            "text/plain": [
              "GridSearchCV(cv=None, error_score=nan,\n",
              "             estimator=GradientBoostingClassifier(ccp_alpha=0.0,\n",
              "                                                  criterion='friedman_mse',\n",
              "                                                  init=None, learning_rate=0.1,\n",
              "                                                  loss='deviance', max_depth=3,\n",
              "                                                  max_features=None,\n",
              "                                                  max_leaf_nodes=None,\n",
              "                                                  min_impurity_decrease=0.0,\n",
              "                                                  min_impurity_split=None,\n",
              "                                                  min_samples_leaf=1,\n",
              "                                                  min_samples_split=2,\n",
              "                                                  min_weight_fraction_leaf=0.0,\n",
              "                                                  n_estimators=100,\n",
              "                                                  n_iter_no_change=None,\n",
              "                                                  presort='deprecated',\n",
              "                                                  random_state=0, subsample=1.0,\n",
              "                                                  tol=0.0001,\n",
              "                                                  validation_fraction=0.1,\n",
              "                                                  verbose=0, warm_start=False),\n",
              "             iid='deprecated', n_jobs=None,\n",
              "             param_grid={'learning_rate': [0.1, 0.01],\n",
              "                         'max_depth': [5, 10, 15, 20],\n",
              "                         'n_estimators': [5, 10, 15]},\n",
              "             pre_dispatch='2*n_jobs', refit=True, return_train_score=False,\n",
              "             scoring=None, verbose=0)"
            ]
          },
          "metadata": {
            "tags": []
          },
          "execution_count": 52
        }
      ]
    },
    {
      "cell_type": "code",
      "metadata": {
        "id": "NiGbeKMlpyty"
      },
      "source": [
        "df=pd.DataFrame.from_dict(boost_regr.cv_results_)"
      ],
      "execution_count": null,
      "outputs": []
    },
    {
      "cell_type": "code",
      "metadata": {
        "colab": {
          "base_uri": "https://localhost:8080/",
          "height": 147
        },
        "id": "XPGZUMyop1sj",
        "outputId": "6dbd0e15-1720-4d6c-888b-5d1c6c8a0d6f"
      },
      "source": [
        "df[df['mean_test_score']==df['mean_test_score'].max()]"
      ],
      "execution_count": null,
      "outputs": [
        {
          "output_type": "execute_result",
          "data": {
            "text/html": [
              "<div>\n",
              "<style scoped>\n",
              "    .dataframe tbody tr th:only-of-type {\n",
              "        vertical-align: middle;\n",
              "    }\n",
              "\n",
              "    .dataframe tbody tr th {\n",
              "        vertical-align: top;\n",
              "    }\n",
              "\n",
              "    .dataframe thead th {\n",
              "        text-align: right;\n",
              "    }\n",
              "</style>\n",
              "<table border=\"1\" class=\"dataframe\">\n",
              "  <thead>\n",
              "    <tr style=\"text-align: right;\">\n",
              "      <th></th>\n",
              "      <th>mean_fit_time</th>\n",
              "      <th>std_fit_time</th>\n",
              "      <th>mean_score_time</th>\n",
              "      <th>std_score_time</th>\n",
              "      <th>param_learning_rate</th>\n",
              "      <th>param_max_depth</th>\n",
              "      <th>param_n_estimators</th>\n",
              "      <th>params</th>\n",
              "      <th>split0_test_score</th>\n",
              "      <th>split1_test_score</th>\n",
              "      <th>split2_test_score</th>\n",
              "      <th>split3_test_score</th>\n",
              "      <th>split4_test_score</th>\n",
              "      <th>mean_test_score</th>\n",
              "      <th>std_test_score</th>\n",
              "      <th>rank_test_score</th>\n",
              "    </tr>\n",
              "  </thead>\n",
              "  <tbody>\n",
              "    <tr>\n",
              "      <th>5</th>\n",
              "      <td>4.107632</td>\n",
              "      <td>0.027292</td>\n",
              "      <td>0.021638</td>\n",
              "      <td>0.000847</td>\n",
              "      <td>0.1</td>\n",
              "      <td>10</td>\n",
              "      <td>15</td>\n",
              "      <td>{'learning_rate': 0.1, 'max_depth': 10, 'n_est...</td>\n",
              "      <td>0.630615</td>\n",
              "      <td>0.631642</td>\n",
              "      <td>0.628062</td>\n",
              "      <td>0.63452</td>\n",
              "      <td>0.621324</td>\n",
              "      <td>0.629232</td>\n",
              "      <td>0.004463</td>\n",
              "      <td>1</td>\n",
              "    </tr>\n",
              "  </tbody>\n",
              "</table>\n",
              "</div>"
            ],
            "text/plain": [
              "   mean_fit_time  std_fit_time  ...  std_test_score  rank_test_score\n",
              "5       4.107632      0.027292  ...        0.004463                1\n",
              "\n",
              "[1 rows x 16 columns]"
            ]
          },
          "metadata": {
            "tags": []
          },
          "execution_count": 54
        }
      ]
    },
    {
      "cell_type": "code",
      "metadata": {
        "id": "iWYf5c_Op5vd"
      },
      "source": [
        "best_breg = GradientBoostingClassifier(random_state=0,learning_rate=0.1,n_estimators=15,max_depth=10).fit(X_train,y_train)"
      ],
      "execution_count": null,
      "outputs": []
    },
    {
      "cell_type": "code",
      "metadata": {
        "colab": {
          "base_uri": "https://localhost:8080/"
        },
        "id": "S094-YJop9Nm",
        "outputId": "5701610e-fb55-438b-de79-a2f0824b670a"
      },
      "source": [
        "np.round(best_breg.score(X_test,y_test),2)"
      ],
      "execution_count": null,
      "outputs": [
        {
          "output_type": "execute_result",
          "data": {
            "text/plain": [
              "0.64"
            ]
          },
          "metadata": {
            "tags": []
          },
          "execution_count": 56
        }
      ]
    },
    {
      "cell_type": "code",
      "metadata": {
        "colab": {
          "base_uri": "https://localhost:8080/"
        },
        "id": "ouHa7I33PEN2",
        "outputId": "56745ea6-52b9-4ed6-ba9b-212f798ed4f9"
      },
      "source": [
        "print(classification_report(y_test,best_breg.predict(X_test)))"
      ],
      "execution_count": null,
      "outputs": [
        {
          "output_type": "stream",
          "text": [
            "              precision    recall  f1-score   support\n",
            "\n",
            "           0       0.64      0.76      0.69     16503\n",
            "           1       0.63      0.49      0.55     14027\n",
            "\n",
            "    accuracy                           0.64     30530\n",
            "   macro avg       0.63      0.62      0.62     30530\n",
            "weighted avg       0.63      0.64      0.63     30530\n",
            "\n"
          ],
          "name": "stdout"
        }
      ]
    },
    {
      "cell_type": "markdown",
      "metadata": {
        "id": "M_f0CsCZiA1L"
      },
      "source": [
        "The Boosting model does better in both classifying readmissions and non readmissions in terms of precision. This model also did well in terms of recall score in classifying non readmissions but not as well in terms of classifying readmissions. Overall accuracy of this model is superior compared to the Bagging and RF models."
      ]
    },
    {
      "cell_type": "markdown",
      "metadata": {
        "id": "ZqVDHflEyCKY"
      },
      "source": [
        "# **Analysis**\n",
        "\n",
        "Through the RF, Bagging and Boosting models, it is evident that classifying non-readmissions is an easier task for all the models. Overall, the Boosting model is the most superior in terms of overall f1 score but not to a significant extent. As mentioned earlier, both recall and precision values can offer valuable insights depending on the context.\n",
        "\n",
        "**Actionable Insights**\n",
        "\n",
        "As mentioned earlier,recall and precision scores might be more appropriate metrics than the f1 score depending on the context of the inquiry. For instance, if it is more costly to hospital administrators or providers to have high readmission rates due to fines or subjection to oversight review, it might be more appropriate to use recall as the metric score. A model with a good recall score will flag patients who are more likely be readmitted but still might not be readmitted. Hence, the approach is more aggressive in terms of identifying potential readmission cases since the cost of missing a readmission case is high. With our current results, the Boosting model has the greatest potential to yield the best recall score but not to a significant extent.\n",
        "However if the cost of missing a certain number of readmission cases is low and the cost of instituting preventive measures for potential readmission cases is high, then precision scores should be used.In this regard, the Random Forest model and the Boosting model performed similarly.\n",
        "\n",
        "As indicated earlier, the Boosting model performed the best in terms of its f1 score accuracy. The f1 score accounts for both the recall and precision scores and therefore is a conservative choice for metrics.\n",
        "\n",
        "\n"
      ]
    },
    {
      "cell_type": "markdown",
      "metadata": {
        "id": "LS6VehtzDzsC"
      },
      "source": [
        "# **Discussion**\n",
        "\n",
        "Overall, we were able to illustrate that general data on previous care utilization and basic diagnostic information about diabetic patients can provide a decent foundation for more robust models that can classify diabetic patients who might be prone to readmission. Given the range of all the scores for all the metrics in all 3 of the models either fluctuated below .70 or disproportionately did better in identifying non readmissions, subsequent analysis should try to boost at least the f1 score in order to have a decent model.\n",
        "\n",
        "**Limitation**\n",
        "Our analysis used only 15 of the 50 features from the original data set. Reintegrating some of the features that we discarded might improve the models that were used in our analysis. For instance, reintegrating gender, age, diagnosis and other features that indicate other types of previous care utilization might be impactful to the models.\n",
        "\n",
        "The underlying intent of this analysis is primarily educational. However,the approach of significantly reducing the number of features used and discarding features with information that is not immediately available for processing was a preliminary method for establishing a baseline for our models. How data is captured in different EMR systems will vary from one institution to another and by efficiently assessing the baseline performance of the models using the most accessible features of a dataset, we are more at ease allocating more time in 'cleaning' certain features (like age and diagnosis in this example) given that our baseline model performance is close to .70.\n",
        "\n",
        "For educational purposes, we can compare results of subsequent analysis of this dataset with insights from the analysis conducted by Strack et. al who used the same dataset.\n",
        "\n",
        "**Potential Implication**\n",
        "\n",
        "It is encouraging to observe that basic features like previous care utilization and diagnostic information about diabetic patients can yield a decent baseline for the models used in this analysis. Given that these features might be more readily available in house, institutions can easily leverage their data without instructing providers to collect additional (if not unnecessary) information during each interaction with patients.\n",
        "\n",
        "Ultimately, for a chronic disease like diabetes, reducing readmission rates not only lower healthcare costs but is also indicative of good interventions throughout the care continuum. Machine Learning tools can extend the capabilities of providers and the institutions that they represent in managing the complexities of care coordination of many patients. Hence, further analysis of the features that are impactful on the classification of readmission prone patients will be valuable to the whole healthcare industry. \n",
        "\n"
      ]
    }
  ]
}
